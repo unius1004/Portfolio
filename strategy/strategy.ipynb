{
  "cells": [
    {
      "cell_type": "markdown",
      "metadata": {
        "id": "view-in-github",
        "colab_type": "text"
      },
      "source": [
        "<a href=\"https://colab.research.google.com/github/unius1004/Portfolio/blob/master/strategy/strategy.ipynb\" target=\"_parent\"><img src=\"https://colab.research.google.com/assets/colab-badge.svg\" alt=\"Open In Colab\"/></a>"
      ]
    },
    {
      "cell_type": "code",
      "source": [
        "def buy_n_hold(data, name='buy and keep'):\n",
        "  s = bt.Strategy(name, [bt.algos.RunOnce(),\n",
        "                         bt.algos.SelectAll(),\n",
        "                         bt.algos.WeighEqually(),\n",
        "                         bt.algos.Rebalance()])\n",
        "  return bt.Backtest(s, data, initial_capital=100000000.0)"
      ],
      "metadata": {
        "id": "UjXYcAvFusfR"
      },
      "execution_count": 9,
      "outputs": []
    }
  ],
  "metadata": {
    "colab": {
      "name": "Colaboratory에 오신 것을 환영합니다",
      "provenance": [],
      "include_colab_link": true
    },
    "kernelspec": {
      "display_name": "Python 3",
      "name": "python3"
    }
  },
  "nbformat": 4,
  "nbformat_minor": 0
}