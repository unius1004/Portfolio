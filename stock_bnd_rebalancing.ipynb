{
  "cells": [
    {
      "cell_type": "markdown",
      "metadata": {
        "id": "view-in-github",
        "colab_type": "text"
      },
      "source": [
        "<a href=\"https://colab.research.google.com/github/unius1004/Portfolio/blob/master/stock_bnd_rebalancing.ipynb\" target=\"_parent\"><img src=\"https://colab.research.google.com/assets/colab-badge.svg\" alt=\"Open In Colab\"/></a>"
      ]
    },
    {
      "cell_type": "code",
      "source": [
        "!pip install finance-datareader --quiet"
      ],
      "metadata": {
        "id": "ycB7-TeFp-R2"
      },
      "execution_count": 6,
      "outputs": []
    },
    {
      "cell_type": "code",
      "source": [
        "!pip install bt --quiet"
      ],
      "metadata": {
        "id": "6qISq3rxroq6",
        "outputId": "361f5834-60bf-4664-be4b-73f22d23f57b",
        "colab": {
          "base_uri": "https://localhost:8080/"
        }
      },
      "execution_count": 7,
      "outputs": [
        {
          "output_type": "stream",
          "name": "stdout",
          "text": [
            "\u001b[?25l\r\u001b[K     |▏                               | 10 kB 15.0 MB/s eta 0:00:01\r\u001b[K     |▎                               | 20 kB 7.1 MB/s eta 0:00:01\r\u001b[K     |▍                               | 30 kB 10.0 MB/s eta 0:00:01\r\u001b[K     |▌                               | 40 kB 9.2 MB/s eta 0:00:01\r\u001b[K     |▋                               | 51 kB 11.1 MB/s eta 0:00:01\r\u001b[K     |▊                               | 61 kB 12.9 MB/s eta 0:00:01\r\u001b[K     |▉                               | 71 kB 11.9 MB/s eta 0:00:01\r\u001b[K     |█                               | 81 kB 13.2 MB/s eta 0:00:01\r\u001b[K     |█                               | 92 kB 7.0 MB/s eta 0:00:01\r\u001b[K     |█▏                              | 102 kB 7.6 MB/s eta 0:00:01\r\u001b[K     |█▎                              | 112 kB 7.6 MB/s eta 0:00:01\r\u001b[K     |█▍                              | 122 kB 7.6 MB/s eta 0:00:01\r\u001b[K     |█▋                              | 133 kB 7.6 MB/s eta 0:00:01\r\u001b[K     |█▊                              | 143 kB 7.6 MB/s eta 0:00:01\r\u001b[K     |█▉                              | 153 kB 7.6 MB/s eta 0:00:01\r\u001b[K     |██                              | 163 kB 7.6 MB/s eta 0:00:01\r\u001b[K     |██                              | 174 kB 7.6 MB/s eta 0:00:01\r\u001b[K     |██▏                             | 184 kB 7.6 MB/s eta 0:00:01\r\u001b[K     |██▎                             | 194 kB 7.6 MB/s eta 0:00:01\r\u001b[K     |██▍                             | 204 kB 7.6 MB/s eta 0:00:01\r\u001b[K     |██▌                             | 215 kB 7.6 MB/s eta 0:00:01\r\u001b[K     |██▋                             | 225 kB 7.6 MB/s eta 0:00:01\r\u001b[K     |██▊                             | 235 kB 7.6 MB/s eta 0:00:01\r\u001b[K     |██▉                             | 245 kB 7.6 MB/s eta 0:00:01\r\u001b[K     |███                             | 256 kB 7.6 MB/s eta 0:00:01\r\u001b[K     |███▏                            | 266 kB 7.6 MB/s eta 0:00:01\r\u001b[K     |███▎                            | 276 kB 7.6 MB/s eta 0:00:01\r\u001b[K     |███▍                            | 286 kB 7.6 MB/s eta 0:00:01\r\u001b[K     |███▌                            | 296 kB 7.6 MB/s eta 0:00:01\r\u001b[K     |███▋                            | 307 kB 7.6 MB/s eta 0:00:01\r\u001b[K     |███▊                            | 317 kB 7.6 MB/s eta 0:00:01\r\u001b[K     |███▉                            | 327 kB 7.6 MB/s eta 0:00:01\r\u001b[K     |████                            | 337 kB 7.6 MB/s eta 0:00:01\r\u001b[K     |████                            | 348 kB 7.6 MB/s eta 0:00:01\r\u001b[K     |████▏                           | 358 kB 7.6 MB/s eta 0:00:01\r\u001b[K     |████▎                           | 368 kB 7.6 MB/s eta 0:00:01\r\u001b[K     |████▍                           | 378 kB 7.6 MB/s eta 0:00:01\r\u001b[K     |████▌                           | 389 kB 7.6 MB/s eta 0:00:01\r\u001b[K     |████▊                           | 399 kB 7.6 MB/s eta 0:00:01\r\u001b[K     |████▉                           | 409 kB 7.6 MB/s eta 0:00:01\r\u001b[K     |█████                           | 419 kB 7.6 MB/s eta 0:00:01\r\u001b[K     |█████                           | 430 kB 7.6 MB/s eta 0:00:01\r\u001b[K     |█████▏                          | 440 kB 7.6 MB/s eta 0:00:01\r\u001b[K     |█████▎                          | 450 kB 7.6 MB/s eta 0:00:01\r\u001b[K     |█████▍                          | 460 kB 7.6 MB/s eta 0:00:01\r\u001b[K     |█████▌                          | 471 kB 7.6 MB/s eta 0:00:01\r\u001b[K     |█████▋                          | 481 kB 7.6 MB/s eta 0:00:01\r\u001b[K     |█████▊                          | 491 kB 7.6 MB/s eta 0:00:01\r\u001b[K     |█████▉                          | 501 kB 7.6 MB/s eta 0:00:01\r\u001b[K     |██████                          | 512 kB 7.6 MB/s eta 0:00:01\r\u001b[K     |██████▏                         | 522 kB 7.6 MB/s eta 0:00:01\r\u001b[K     |██████▎                         | 532 kB 7.6 MB/s eta 0:00:01\r\u001b[K     |██████▍                         | 542 kB 7.6 MB/s eta 0:00:01\r\u001b[K     |██████▌                         | 552 kB 7.6 MB/s eta 0:00:01\r\u001b[K     |██████▋                         | 563 kB 7.6 MB/s eta 0:00:01\r\u001b[K     |██████▊                         | 573 kB 7.6 MB/s eta 0:00:01\r\u001b[K     |██████▉                         | 583 kB 7.6 MB/s eta 0:00:01\r\u001b[K     |███████                         | 593 kB 7.6 MB/s eta 0:00:01\r\u001b[K     |███████                         | 604 kB 7.6 MB/s eta 0:00:01\r\u001b[K     |███████▏                        | 614 kB 7.6 MB/s eta 0:00:01\r\u001b[K     |███████▎                        | 624 kB 7.6 MB/s eta 0:00:01\r\u001b[K     |███████▍                        | 634 kB 7.6 MB/s eta 0:00:01\r\u001b[K     |███████▌                        | 645 kB 7.6 MB/s eta 0:00:01\r\u001b[K     |███████▊                        | 655 kB 7.6 MB/s eta 0:00:01\r\u001b[K     |███████▉                        | 665 kB 7.6 MB/s eta 0:00:01\r\u001b[K     |████████                        | 675 kB 7.6 MB/s eta 0:00:01\r\u001b[K     |████████                        | 686 kB 7.6 MB/s eta 0:00:01\r\u001b[K     |████████▏                       | 696 kB 7.6 MB/s eta 0:00:01\r\u001b[K     |████████▎                       | 706 kB 7.6 MB/s eta 0:00:01\r\u001b[K     |████████▍                       | 716 kB 7.6 MB/s eta 0:00:01\r\u001b[K     |████████▌                       | 727 kB 7.6 MB/s eta 0:00:01\r\u001b[K     |████████▋                       | 737 kB 7.6 MB/s eta 0:00:01\r\u001b[K     |████████▊                       | 747 kB 7.6 MB/s eta 0:00:01\r\u001b[K     |████████▉                       | 757 kB 7.6 MB/s eta 0:00:01\r\u001b[K     |█████████                       | 768 kB 7.6 MB/s eta 0:00:01\r\u001b[K     |█████████                       | 778 kB 7.6 MB/s eta 0:00:01\r\u001b[K     |█████████▎                      | 788 kB 7.6 MB/s eta 0:00:01\r\u001b[K     |█████████▍                      | 798 kB 7.6 MB/s eta 0:00:01\r\u001b[K     |█████████▌                      | 808 kB 7.6 MB/s eta 0:00:01\r\u001b[K     |█████████▋                      | 819 kB 7.6 MB/s eta 0:00:01\r\u001b[K     |█████████▊                      | 829 kB 7.6 MB/s eta 0:00:01\r\u001b[K     |█████████▉                      | 839 kB 7.6 MB/s eta 0:00:01\r\u001b[K     |██████████                      | 849 kB 7.6 MB/s eta 0:00:01\r\u001b[K     |██████████                      | 860 kB 7.6 MB/s eta 0:00:01\r\u001b[K     |██████████▏                     | 870 kB 7.6 MB/s eta 0:00:01\r\u001b[K     |██████████▎                     | 880 kB 7.6 MB/s eta 0:00:01\r\u001b[K     |██████████▍                     | 890 kB 7.6 MB/s eta 0:00:01\r\u001b[K     |██████████▌                     | 901 kB 7.6 MB/s eta 0:00:01\r\u001b[K     |██████████▋                     | 911 kB 7.6 MB/s eta 0:00:01\r\u001b[K     |██████████▉                     | 921 kB 7.6 MB/s eta 0:00:01\r\u001b[K     |███████████                     | 931 kB 7.6 MB/s eta 0:00:01\r\u001b[K     |███████████                     | 942 kB 7.6 MB/s eta 0:00:01\r\u001b[K     |███████████▏                    | 952 kB 7.6 MB/s eta 0:00:01\r\u001b[K     |███████████▎                    | 962 kB 7.6 MB/s eta 0:00:01\r\u001b[K     |███████████▍                    | 972 kB 7.6 MB/s eta 0:00:01\r\u001b[K     |███████████▌                    | 983 kB 7.6 MB/s eta 0:00:01\r\u001b[K     |███████████▋                    | 993 kB 7.6 MB/s eta 0:00:01\r\u001b[K     |███████████▊                    | 1.0 MB 7.6 MB/s eta 0:00:01\r\u001b[K     |███████████▉                    | 1.0 MB 7.6 MB/s eta 0:00:01\r\u001b[K     |████████████                    | 1.0 MB 7.6 MB/s eta 0:00:01\r\u001b[K     |████████████                    | 1.0 MB 7.6 MB/s eta 0:00:01\r\u001b[K     |████████████▎                   | 1.0 MB 7.6 MB/s eta 0:00:01\r\u001b[K     |████████████▍                   | 1.1 MB 7.6 MB/s eta 0:00:01\r\u001b[K     |████████████▌                   | 1.1 MB 7.6 MB/s eta 0:00:01\r\u001b[K     |████████████▋                   | 1.1 MB 7.6 MB/s eta 0:00:01\r\u001b[K     |████████████▊                   | 1.1 MB 7.6 MB/s eta 0:00:01\r\u001b[K     |████████████▉                   | 1.1 MB 7.6 MB/s eta 0:00:01\r\u001b[K     |█████████████                   | 1.1 MB 7.6 MB/s eta 0:00:01\r\u001b[K     |█████████████                   | 1.1 MB 7.6 MB/s eta 0:00:01\r\u001b[K     |█████████████▏                  | 1.1 MB 7.6 MB/s eta 0:00:01\r\u001b[K     |█████████████▎                  | 1.1 MB 7.6 MB/s eta 0:00:01\r\u001b[K     |█████████████▍                  | 1.1 MB 7.6 MB/s eta 0:00:01\r\u001b[K     |█████████████▌                  | 1.2 MB 7.6 MB/s eta 0:00:01\r\u001b[K     |█████████████▋                  | 1.2 MB 7.6 MB/s eta 0:00:01\r\u001b[K     |█████████████▉                  | 1.2 MB 7.6 MB/s eta 0:00:01\r\u001b[K     |██████████████                  | 1.2 MB 7.6 MB/s eta 0:00:01\r\u001b[K     |██████████████                  | 1.2 MB 7.6 MB/s eta 0:00:01\r\u001b[K     |██████████████▏                 | 1.2 MB 7.6 MB/s eta 0:00:01\r\u001b[K     |██████████████▎                 | 1.2 MB 7.6 MB/s eta 0:00:01\r\u001b[K     |██████████████▍                 | 1.2 MB 7.6 MB/s eta 0:00:01\r\u001b[K     |██████████████▌                 | 1.2 MB 7.6 MB/s eta 0:00:01\r\u001b[K     |██████████████▋                 | 1.2 MB 7.6 MB/s eta 0:00:01\r\u001b[K     |██████████████▊                 | 1.3 MB 7.6 MB/s eta 0:00:01\r\u001b[K     |██████████████▉                 | 1.3 MB 7.6 MB/s eta 0:00:01\r\u001b[K     |███████████████                 | 1.3 MB 7.6 MB/s eta 0:00:01\r\u001b[K     |███████████████                 | 1.3 MB 7.6 MB/s eta 0:00:01\r\u001b[K     |███████████████▏                | 1.3 MB 7.6 MB/s eta 0:00:01\r\u001b[K     |███████████████▍                | 1.3 MB 7.6 MB/s eta 0:00:01\r\u001b[K     |███████████████▌                | 1.3 MB 7.6 MB/s eta 0:00:01\r\u001b[K     |███████████████▋                | 1.3 MB 7.6 MB/s eta 0:00:01\r\u001b[K     |███████████████▊                | 1.3 MB 7.6 MB/s eta 0:00:01\r\u001b[K     |███████████████▉                | 1.4 MB 7.6 MB/s eta 0:00:01\r\u001b[K     |████████████████                | 1.4 MB 7.6 MB/s eta 0:00:01\r\u001b[K     |████████████████                | 1.4 MB 7.6 MB/s eta 0:00:01\r\u001b[K     |████████████████▏               | 1.4 MB 7.6 MB/s eta 0:00:01\r\u001b[K     |████████████████▎               | 1.4 MB 7.6 MB/s eta 0:00:01\r\u001b[K     |████████████████▍               | 1.4 MB 7.6 MB/s eta 0:00:01\r\u001b[K     |████████████████▌               | 1.4 MB 7.6 MB/s eta 0:00:01\r\u001b[K     |████████████████▋               | 1.4 MB 7.6 MB/s eta 0:00:01\r\u001b[K     |████████████████▊               | 1.4 MB 7.6 MB/s eta 0:00:01\r\u001b[K     |█████████████████               | 1.4 MB 7.6 MB/s eta 0:00:01\r\u001b[K     |█████████████████               | 1.5 MB 7.6 MB/s eta 0:00:01\r\u001b[K     |█████████████████▏              | 1.5 MB 7.6 MB/s eta 0:00:01\r\u001b[K     |█████████████████▎              | 1.5 MB 7.6 MB/s eta 0:00:01\r\u001b[K     |█████████████████▍              | 1.5 MB 7.6 MB/s eta 0:00:01\r\u001b[K     |█████████████████▌              | 1.5 MB 7.6 MB/s eta 0:00:01\r\u001b[K     |█████████████████▋              | 1.5 MB 7.6 MB/s eta 0:00:01\r\u001b[K     |█████████████████▊              | 1.5 MB 7.6 MB/s eta 0:00:01\r\u001b[K     |█████████████████▉              | 1.5 MB 7.6 MB/s eta 0:00:01\r\u001b[K     |██████████████████              | 1.5 MB 7.6 MB/s eta 0:00:01\r\u001b[K     |██████████████████              | 1.5 MB 7.6 MB/s eta 0:00:01\r\u001b[K     |██████████████████▏             | 1.6 MB 7.6 MB/s eta 0:00:01\r\u001b[K     |██████████████████▍             | 1.6 MB 7.6 MB/s eta 0:00:01\r\u001b[K     |██████████████████▌             | 1.6 MB 7.6 MB/s eta 0:00:01\r\u001b[K     |██████████████████▋             | 1.6 MB 7.6 MB/s eta 0:00:01\r\u001b[K     |██████████████████▊             | 1.6 MB 7.6 MB/s eta 0:00:01\r\u001b[K     |██████████████████▉             | 1.6 MB 7.6 MB/s eta 0:00:01\r\u001b[K     |███████████████████             | 1.6 MB 7.6 MB/s eta 0:00:01\r\u001b[K     |███████████████████             | 1.6 MB 7.6 MB/s eta 0:00:01\r\u001b[K     |███████████████████▏            | 1.6 MB 7.6 MB/s eta 0:00:01\r\u001b[K     |███████████████████▎            | 1.6 MB 7.6 MB/s eta 0:00:01\r\u001b[K     |███████████████████▍            | 1.7 MB 7.6 MB/s eta 0:00:01\r\u001b[K     |███████████████████▌            | 1.7 MB 7.6 MB/s eta 0:00:01\r\u001b[K     |███████████████████▋            | 1.7 MB 7.6 MB/s eta 0:00:01\r\u001b[K     |███████████████████▊            | 1.7 MB 7.6 MB/s eta 0:00:01\r\u001b[K     |████████████████████            | 1.7 MB 7.6 MB/s eta 0:00:01\r\u001b[K     |████████████████████            | 1.7 MB 7.6 MB/s eta 0:00:01\r\u001b[K     |████████████████████▏           | 1.7 MB 7.6 MB/s eta 0:00:01\r\u001b[K     |████████████████████▎           | 1.7 MB 7.6 MB/s eta 0:00:01\r\u001b[K     |████████████████████▍           | 1.7 MB 7.6 MB/s eta 0:00:01\r\u001b[K     |████████████████████▌           | 1.8 MB 7.6 MB/s eta 0:00:01\r\u001b[K     |████████████████████▋           | 1.8 MB 7.6 MB/s eta 0:00:01\r\u001b[K     |████████████████████▊           | 1.8 MB 7.6 MB/s eta 0:00:01\r\u001b[K     |████████████████████▉           | 1.8 MB 7.6 MB/s eta 0:00:01\r\u001b[K     |█████████████████████           | 1.8 MB 7.6 MB/s eta 0:00:01\r\u001b[K     |█████████████████████           | 1.8 MB 7.6 MB/s eta 0:00:01\r\u001b[K     |█████████████████████▏          | 1.8 MB 7.6 MB/s eta 0:00:01\r\u001b[K     |█████████████████████▎          | 1.8 MB 7.6 MB/s eta 0:00:01\r\u001b[K     |█████████████████████▌          | 1.8 MB 7.6 MB/s eta 0:00:01\r\u001b[K     |█████████████████████▋          | 1.8 MB 7.6 MB/s eta 0:00:01\r\u001b[K     |█████████████████████▊          | 1.9 MB 7.6 MB/s eta 0:00:01\r\u001b[K     |█████████████████████▉          | 1.9 MB 7.6 MB/s eta 0:00:01\r\u001b[K     |██████████████████████          | 1.9 MB 7.6 MB/s eta 0:00:01\r\u001b[K     |██████████████████████          | 1.9 MB 7.6 MB/s eta 0:00:01\r\u001b[K     |██████████████████████▏         | 1.9 MB 7.6 MB/s eta 0:00:01\r\u001b[K     |██████████████████████▎         | 1.9 MB 7.6 MB/s eta 0:00:01\r\u001b[K     |██████████████████████▍         | 1.9 MB 7.6 MB/s eta 0:00:01\r\u001b[K     |██████████████████████▌         | 1.9 MB 7.6 MB/s eta 0:00:01\r\u001b[K     |██████████████████████▋         | 1.9 MB 7.6 MB/s eta 0:00:01\r\u001b[K     |██████████████████████▊         | 1.9 MB 7.6 MB/s eta 0:00:01\r\u001b[K     |██████████████████████▉         | 2.0 MB 7.6 MB/s eta 0:00:01\r\u001b[K     |███████████████████████         | 2.0 MB 7.6 MB/s eta 0:00:01\r\u001b[K     |███████████████████████▏        | 2.0 MB 7.6 MB/s eta 0:00:01\r\u001b[K     |███████████████████████▎        | 2.0 MB 7.6 MB/s eta 0:00:01\r\u001b[K     |███████████████████████▍        | 2.0 MB 7.6 MB/s eta 0:00:01\r\u001b[K     |███████████████████████▌        | 2.0 MB 7.6 MB/s eta 0:00:01\r\u001b[K     |███████████████████████▋        | 2.0 MB 7.6 MB/s eta 0:00:01\r\u001b[K     |███████████████████████▊        | 2.0 MB 7.6 MB/s eta 0:00:01\r\u001b[K     |███████████████████████▉        | 2.0 MB 7.6 MB/s eta 0:00:01\r\u001b[K     |████████████████████████        | 2.0 MB 7.6 MB/s eta 0:00:01\r\u001b[K     |████████████████████████        | 2.1 MB 7.6 MB/s eta 0:00:01\r\u001b[K     |████████████████████████▏       | 2.1 MB 7.6 MB/s eta 0:00:01\r\u001b[K     |████████████████████████▎       | 2.1 MB 7.6 MB/s eta 0:00:01\r\u001b[K     |████████████████████████▌       | 2.1 MB 7.6 MB/s eta 0:00:01\r\u001b[K     |████████████████████████▋       | 2.1 MB 7.6 MB/s eta 0:00:01\r\u001b[K     |████████████████████████▊       | 2.1 MB 7.6 MB/s eta 0:00:01\r\u001b[K     |████████████████████████▉       | 2.1 MB 7.6 MB/s eta 0:00:01\r\u001b[K     |█████████████████████████       | 2.1 MB 7.6 MB/s eta 0:00:01\r\u001b[K     |█████████████████████████       | 2.1 MB 7.6 MB/s eta 0:00:01\r\u001b[K     |█████████████████████████▏      | 2.2 MB 7.6 MB/s eta 0:00:01\r\u001b[K     |█████████████████████████▎      | 2.2 MB 7.6 MB/s eta 0:00:01\r\u001b[K     |█████████████████████████▍      | 2.2 MB 7.6 MB/s eta 0:00:01\r\u001b[K     |█████████████████████████▌      | 2.2 MB 7.6 MB/s eta 0:00:01\r\u001b[K     |█████████████████████████▋      | 2.2 MB 7.6 MB/s eta 0:00:01\r\u001b[K     |█████████████████████████▊      | 2.2 MB 7.6 MB/s eta 0:00:01\r\u001b[K     |█████████████████████████▉      | 2.2 MB 7.6 MB/s eta 0:00:01\r\u001b[K     |██████████████████████████      | 2.2 MB 7.6 MB/s eta 0:00:01\r\u001b[K     |██████████████████████████▏     | 2.2 MB 7.6 MB/s eta 0:00:01\r\u001b[K     |██████████████████████████▎     | 2.2 MB 7.6 MB/s eta 0:00:01\r\u001b[K     |██████████████████████████▍     | 2.3 MB 7.6 MB/s eta 0:00:01\r\u001b[K     |██████████████████████████▌     | 2.3 MB 7.6 MB/s eta 0:00:01\r\u001b[K     |██████████████████████████▋     | 2.3 MB 7.6 MB/s eta 0:00:01\r\u001b[K     |██████████████████████████▊     | 2.3 MB 7.6 MB/s eta 0:00:01\r\u001b[K     |██████████████████████████▉     | 2.3 MB 7.6 MB/s eta 0:00:01\r\u001b[K     |███████████████████████████     | 2.3 MB 7.6 MB/s eta 0:00:01\r\u001b[K     |███████████████████████████     | 2.3 MB 7.6 MB/s eta 0:00:01\r\u001b[K     |███████████████████████████▏    | 2.3 MB 7.6 MB/s eta 0:00:01\r\u001b[K     |███████████████████████████▎    | 2.3 MB 7.6 MB/s eta 0:00:01\r\u001b[K     |███████████████████████████▍    | 2.3 MB 7.6 MB/s eta 0:00:01\r\u001b[K     |███████████████████████████▋    | 2.4 MB 7.6 MB/s eta 0:00:01\r\u001b[K     |███████████████████████████▊    | 2.4 MB 7.6 MB/s eta 0:00:01\r\u001b[K     |███████████████████████████▉    | 2.4 MB 7.6 MB/s eta 0:00:01\r\u001b[K     |████████████████████████████    | 2.4 MB 7.6 MB/s eta 0:00:01\r\u001b[K     |████████████████████████████    | 2.4 MB 7.6 MB/s eta 0:00:01\r\u001b[K     |████████████████████████████▏   | 2.4 MB 7.6 MB/s eta 0:00:01\r\u001b[K     |████████████████████████████▎   | 2.4 MB 7.6 MB/s eta 0:00:01\r\u001b[K     |████████████████████████████▍   | 2.4 MB 7.6 MB/s eta 0:00:01\r\u001b[K     |████████████████████████████▌   | 2.4 MB 7.6 MB/s eta 0:00:01\r\u001b[K     |████████████████████████████▋   | 2.4 MB 7.6 MB/s eta 0:00:01\r\u001b[K     |████████████████████████████▊   | 2.5 MB 7.6 MB/s eta 0:00:01\r\u001b[K     |████████████████████████████▉   | 2.5 MB 7.6 MB/s eta 0:00:01\r\u001b[K     |█████████████████████████████   | 2.5 MB 7.6 MB/s eta 0:00:01\r\u001b[K     |█████████████████████████████▏  | 2.5 MB 7.6 MB/s eta 0:00:01\r\u001b[K     |█████████████████████████████▎  | 2.5 MB 7.6 MB/s eta 0:00:01\r\u001b[K     |█████████████████████████████▍  | 2.5 MB 7.6 MB/s eta 0:00:01\r\u001b[K     |█████████████████████████████▌  | 2.5 MB 7.6 MB/s eta 0:00:01\r\u001b[K     |█████████████████████████████▋  | 2.5 MB 7.6 MB/s eta 0:00:01\r\u001b[K     |█████████████████████████████▊  | 2.5 MB 7.6 MB/s eta 0:00:01\r\u001b[K     |█████████████████████████████▉  | 2.5 MB 7.6 MB/s eta 0:00:01\r\u001b[K     |██████████████████████████████  | 2.6 MB 7.6 MB/s eta 0:00:01\r\u001b[K     |██████████████████████████████  | 2.6 MB 7.6 MB/s eta 0:00:01\r\u001b[K     |██████████████████████████████▏ | 2.6 MB 7.6 MB/s eta 0:00:01\r\u001b[K     |██████████████████████████████▎ | 2.6 MB 7.6 MB/s eta 0:00:01\r\u001b[K     |██████████████████████████████▍ | 2.6 MB 7.6 MB/s eta 0:00:01\r\u001b[K     |██████████████████████████████▋ | 2.6 MB 7.6 MB/s eta 0:00:01\r\u001b[K     |██████████████████████████████▊ | 2.6 MB 7.6 MB/s eta 0:00:01\r\u001b[K     |██████████████████████████████▉ | 2.6 MB 7.6 MB/s eta 0:00:01\r\u001b[K     |███████████████████████████████ | 2.6 MB 7.6 MB/s eta 0:00:01\r\u001b[K     |███████████████████████████████ | 2.7 MB 7.6 MB/s eta 0:00:01\r\u001b[K     |███████████████████████████████▏| 2.7 MB 7.6 MB/s eta 0:00:01\r\u001b[K     |███████████████████████████████▎| 2.7 MB 7.6 MB/s eta 0:00:01\r\u001b[K     |███████████████████████████████▍| 2.7 MB 7.6 MB/s eta 0:00:01\r\u001b[K     |███████████████████████████████▌| 2.7 MB 7.6 MB/s eta 0:00:01\r\u001b[K     |███████████████████████████████▋| 2.7 MB 7.6 MB/s eta 0:00:01\r\u001b[K     |███████████████████████████████▊| 2.7 MB 7.6 MB/s eta 0:00:01\r\u001b[K     |███████████████████████████████▉| 2.7 MB 7.6 MB/s eta 0:00:01\r\u001b[K     |████████████████████████████████| 2.7 MB 7.6 MB/s eta 0:00:01\r\u001b[K     |████████████████████████████████| 2.7 MB 7.6 MB/s \n",
            "\u001b[?25h  Installing build dependencies ... \u001b[?25l\u001b[?25hdone\n",
            "  Getting requirements to build wheel ... \u001b[?25l\u001b[?25hdone\n",
            "    Preparing wheel metadata ... \u001b[?25l\u001b[?25hdone\n",
            "  Building wheel for bt (PEP 517) ... \u001b[?25l\u001b[?25hdone\n"
          ]
        }
      ]
    },
    {
      "cell_type": "code",
      "source": [
        "cd /content/drive/MyDrive/Commit_folder/Portfolio"
      ],
      "metadata": {
        "id": "K5lyaBc2VMRV",
        "outputId": "7b620cba-5842-4c45-8336-aec7fb817af6",
        "colab": {
          "base_uri": "https://localhost:8080/"
        }
      },
      "execution_count": 3,
      "outputs": [
        {
          "output_type": "stream",
          "name": "stdout",
          "text": [
            "/content/drive/MyDrive/Commit_folder/Portfolio\n"
          ]
        }
      ]
    },
    {
      "cell_type": "code",
      "source": [
        "import FinanceDataReader as fdr\n",
        "import numpy as np\n",
        "import pandas as pd\n",
        "import matplotlib.pyplot as plt\n",
        "import seaborn as sns\n",
        "\n",
        "%matplotlib inline\n",
        "\n",
        "from strategy import *"
      ],
      "metadata": {
        "id": "cj4fl7IUqWGR"
      },
      "execution_count": 4,
      "outputs": []
    },
    {
      "cell_type": "code",
      "source": [
        "kbstar_bnd = fdr.DataReader('114100')\n",
        "kodex200 = fdr.DataReader('069500')\n",
        "\n",
        "data = pd.DataFrame()\n",
        "data['kodex200'] = kodex200['Close']\n",
        "data['kbstar_bnd'] = kbstar_bnd['Close']\n",
        "data = data.dropna()\n",
        "print('data \\n', data)"
      ],
      "metadata": {
        "colab": {
          "base_uri": "https://localhost:8080/"
        },
        "id": "-mnsvH-RqLgb",
        "outputId": "753582d9-92b8-428a-cf32-3fed4e9c7975"
      },
      "execution_count": 5,
      "outputs": [
        {
          "output_type": "stream",
          "name": "stdout",
          "text": [
            "data \n",
            "             kodex200  kbstar_bnd\n",
            "Date                            \n",
            "2009-07-29     16044     76226.0\n",
            "2009-07-30     16182     76367.0\n",
            "2009-07-31     16444     76217.0\n",
            "2009-08-03     16471     75959.0\n",
            "2009-08-04     16500     75965.0\n",
            "...              ...         ...\n",
            "2022-11-23     31465    107675.0\n",
            "2022-11-24     31760    108215.0\n",
            "2022-11-25     31630    108375.0\n",
            "2022-11-28     31245    108300.0\n",
            "2022-11-29     31600    108205.0\n",
            "\n",
            "[3295 rows x 2 columns]\n"
          ]
        }
      ]
    },
    {
      "cell_type": "code",
      "source": [
        "s = bt.Strategy('stock vs bond 1:1 rebalancing',\n",
        "                [bt.algos.RunMonthly(run_on_first_date=False, run_on_end_of_period=True, run_on_last_date=False),\n",
        "                 #bt.algos.PrintInfo('{name} : {now}'),\n",
        "                 bt.algos.SelectAll(),\n",
        "                 bt.algos.WeighEqually(),\n",
        "                 bt.algos.Rebalance()])\n",
        "test = bt.Backtest(s, data, initial_capital=100000000.0)"
      ],
      "metadata": {
        "id": "PnmNI0MovO5M"
      },
      "execution_count": 6,
      "outputs": []
    },
    {
      "cell_type": "code",
      "source": [
        "kodex200 = buy_n_hold(data['kodex200'].to_frame(), name='kodex200')\n",
        "kbstar_bnd = buy_n_hold(data['kbstar_bnd'].to_frame(), name='kbstar_bnd')\n",
        "\n",
        "report = bt.run(test, kodex200, kbstar_bnd)"
      ],
      "metadata": {
        "id": "TS6c6Ys1wU__"
      },
      "execution_count": 7,
      "outputs": []
    },
    {
      "cell_type": "code",
      "source": [
        "report.plot()\n",
        "plt.legend()\n",
        "plt.grid(True)\n",
        "plt.show()\n",
        "\n",
        "print(report.display())\n",
        "print(report.display_monthly_returns())"
      ],
      "metadata": {
        "colab": {
          "base_uri": "https://localhost:8080/"
        },
        "id": "WXr6hVHIyNMW",
        "outputId": "5dd298b4-14e8-4950-8ba7-80047a1a164b"
      },
      "execution_count": 9,
      "outputs": [
        {
          "output_type": "stream",
          "name": "stdout",
          "text": [
            "Stat                 stock vs bond 1:1 rebalancing    kodex200    kbstar_bnd\n",
            "-------------------  -------------------------------  ----------  ------------\n",
            "Start                2009-07-28                       2009-07-28  2009-07-28\n",
            "End                  2022-11-29                       2022-11-29  2022-11-29\n",
            "Risk-free rate       0.00%                            0.00%       0.00%\n",
            "\n",
            "Total Return         72.53%                           96.94%      41.92%\n",
            "Daily Sharpe         0.53                             0.39        1.55\n",
            "Daily Sortino        0.87                             0.62        2.49\n",
            "CAGR                 4.17%                            5.21%       2.66%\n",
            "Max Drawdown         -20.22%                          -38.08%     -5.53%\n",
            "Calmar Ratio         0.21                             0.14        0.48\n",
            "\n",
            "MTD                  3.58%                            5.46%       1.71%\n",
            "3m                   0.79%                            0.23%       0.87%\n",
            "6m                   -4.13%                           -8.79%      -0.13%\n",
            "YTD                  -10.53%                          -19.01%     -2.27%\n",
            "1Y                   -8.39%                           -15.48%     -1.95%\n",
            "3Y (ann.)            3.80%                            6.72%       -0.16%\n",
            "5Y (ann.)            1.61%                            1.18%       1.08%\n",
            "10Y (ann.)           3.19%                            3.95%       1.82%\n",
            "Since Incep. (ann.)  4.17%                            5.21%       2.66%\n",
            "\n",
            "Daily Sharpe         0.53                             0.39        1.55\n",
            "Daily Sortino        0.87                             0.62        2.49\n",
            "Daily Mean (ann.)    4.53%                            6.67%       2.69%\n",
            "Daily Vol (ann.)     8.49%                            17.23%      1.74%\n",
            "Daily Skew           -0.09                            -0.03       -0.37\n",
            "Daily Kurt           4.73                             5.71        13.25\n",
            "Best Day             4.06%                            9.27%       1.02%\n",
            "Worst Day            -3.63%                           -7.33%      -1.02%\n",
            "\n",
            "Monthly Sharpe       0.54                             0.38        1.47\n",
            "Monthly Sortino      0.94                             0.66        2.86\n",
            "Monthly Mean (ann.)  4.43%                            6.22%       2.65%\n",
            "Monthly Vol (ann.)   8.21%                            16.21%      1.79%\n",
            "Monthly Skew         -0.26                            -0.20       -0.29\n",
            "Monthly Kurt         1.13                             1.07        1.99\n",
            "Best Month           7.47%                            15.07%      1.87%\n",
            "Worst Month          -6.98%                           -12.88%     -1.71%\n",
            "\n",
            "Yearly Sharpe        0.48                             0.33        1.06\n",
            "Yearly Sortino       1.23                             0.79        4.22\n",
            "Yearly Mean          4.15%                            5.59%       2.66%\n",
            "Yearly Vol           8.65%                            16.91%      2.50%\n",
            "Yearly Skew          0.05                             0.21        -0.28\n",
            "Yearly Kurt          -0.60                            -0.77       0.08\n",
            "Best Year            18.72%                           35.53%      7.00%\n",
            "Worst Year           -10.53%                          -19.01%     -2.27%\n",
            "\n",
            "Avg. Drawdown        -1.60%                           -3.24%      -0.18%\n",
            "Avg. Drawdown Days   44.11                            63.32       15.43\n",
            "Avg. Up Month        1.80%                            3.56%       0.44%\n",
            "Avg. Down Month      -1.83%                           -3.59%      -0.43%\n",
            "Win Year %           69.23%                           61.54%      84.62%\n",
            "Win 12m %            68.00%                           58.67%      85.33%\n",
            "None\n",
            "  Year    Jan    Feb    Mar    Apr    May    Jun    Jul    Aug    Sep    Oct    Nov    Dec     YTD\n",
            "------  -----  -----  -----  -----  -----  -----  -----  -----  -----  -----  -----  -----  ------\n",
            "  2009   0      0      0      0      0      0      0      0.85   3.45  -2.87   0.23   4.39    6.02\n",
            "  2010  -2.21  -0.05   3.79   1.98  -2.96   1.46   2.24   0.13   3.89   0.47   1.79   4.28   15.51\n",
            "  2011   0.03  -2.62   4.62   2.32  -0.77  -1.47   0.45  -5.74  -2.37   4.65  -1.38   0.02   -2.72\n",
            "  2012   3.96   1.94  -0.1    0.02  -3.56   0.33   1.76   0.25   2.55  -2.14   0.93   2.17    8.18\n",
            "  2013  -0.87   2.27  -0.6   -1.36   0.77  -3.95   1.39   0.82   2.21   1.33   0.29  -0.19    1.97\n",
            "  2014  -1.99   1.11   0.11  -0.33   1.19   0.3    2.25  -0.82  -1.23  -0.87   0.79  -1.17   -0.75\n",
            "  2015   1.71   0.14   1.49   1.88  -0.94  -1.72  -1.53  -2.21   1.36   2.99  -1.32  -0.02    1.69\n",
            "  2016  -1.51   1.13   2.21  -0.06  -0.3    0.61   1.59   0.86   0.27  -0.54  -0.63   2.01    5.72\n",
            "  2017   1.77   0.32   2.27   1.22   3.29   1.21   0.45  -1.02   1.33   2.37  -1.03   0.36   13.18\n",
            "  2018   1.25  -2.81   0.63   1.35  -1.73  -1.47  -0.2    0.65   0.22  -5.85   1.62  -0.91   -7.27\n",
            "  2019   4.7   -0.31  -0.82   1.46  -3.51   2.95  -1.64  -1.29   2.86   0.33   0.27   3.8     8.8\n",
            "  2020  -1.27  -2.6   -5.73   4.73   2.11   2.46   3.55   1.19   0.76  -1.57   7.47   7.01   18.72\n",
            "  2021   2.18   0.65   0.5    0.97   0.49   1.23  -1.39  -0.5   -2.41  -2.21  -1.27   3.37    1.44\n",
            "  2022  -4.95   0.56   0.2   -1.81  -0     -6.98   3.49  -1.1   -6.64   3.33   3.58   0     -10.53\n",
            "None\n"
          ]
        }
      ]
    },
    {
      "cell_type": "code",
      "source": [
        "report.backtests['stock vs bond 1:1 rebalancing'].stats.drawdown.plot(figsize=(15,5))"
      ],
      "metadata": {
        "colab": {
          "base_uri": "https://localhost:8080/"
        },
        "id": "6OcGiJIjxXpg",
        "outputId": "1b3fdb96-c725-402d-edc8-847da44c43e3"
      },
      "execution_count": 14,
      "outputs": [
        {
          "output_type": "execute_result",
          "data": {
            "text/plain": [
              "<matplotlib.axes._subplots.AxesSubplot at 0x7f91be65da90>"
            ]
          },
          "metadata": {},
          "execution_count": 14
        }
      ]
    },
    {
      "cell_type": "code",
      "source": [],
      "metadata": {
        "id": "Sj6w3S-F1afT"
      },
      "execution_count": null,
      "outputs": []
    }
  ],
  "metadata": {
    "colab": {
      "name": "Colaboratory에 오신 것을 환영합니다",
      "provenance": [],
      "include_colab_link": true
    },
    "kernelspec": {
      "display_name": "Python 3",
      "name": "python3"
    }
  },
  "nbformat": 4,
  "nbformat_minor": 0
}