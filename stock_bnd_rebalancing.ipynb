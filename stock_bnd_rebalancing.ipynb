{
  "cells": [
    {
      "cell_type": "markdown",
      "metadata": {
        "id": "view-in-github",
        "colab_type": "text"
      },
      "source": [
        "<a href=\"https://colab.research.google.com/github/unius1004/Portfolio/blob/master/stock_bnd_rebalancing.ipynb\" target=\"_parent\"><img src=\"https://colab.research.google.com/assets/colab-badge.svg\" alt=\"Open In Colab\"/></a>"
      ]
    },
    {
      "cell_type": "code",
      "source": [
        "from google.colab import drive\n",
        "drive.mount('/content/drive')"
      ],
      "metadata": {
        "colab": {
          "base_uri": "https://localhost:8080/"
        },
        "id": "sFQ-iXgaM2_L",
        "outputId": "5106a740-a96c-419a-cac4-745f0c0091fd"
      },
      "execution_count": 4,
      "outputs": [
        {
          "output_type": "stream",
          "name": "stdout",
          "text": [
            "Drive already mounted at /content/drive; to attempt to forcibly remount, call drive.mount(\"/content/drive\", force_remount=True).\n"
          ]
        }
      ]
    },
    {
      "cell_type": "code",
      "source": [
        "pwd"
      ],
      "metadata": {
        "id": "qIQjKdRVZLnL",
        "outputId": "f3a772f0-d8dc-45e1-83dc-8f15460710d2",
        "colab": {
          "base_uri": "https://localhost:8080/",
          "height": 35
        }
      },
      "execution_count": 5,
      "outputs": [
        {
          "output_type": "execute_result",
          "data": {
            "text/plain": [
              "'/content/drive/My Drive/Commit_folder/Portfolio'"
            ],
            "application/vnd.google.colaboratory.intrinsic+json": {
              "type": "string"
            }
          },
          "metadata": {},
          "execution_count": 5
        }
      ]
    },
    {
      "cell_type": "code",
      "source": [
        "cd /content/drive/MyDrive/Commit_folder/Portfolio"
      ],
      "metadata": {
        "colab": {
          "base_uri": "https://localhost:8080/"
        },
        "id": "K5lyaBc2VMRV",
        "outputId": "0931ba7e-e7fd-4923-b0aa-32954669913a"
      },
      "execution_count": 6,
      "outputs": [
        {
          "output_type": "stream",
          "name": "stdout",
          "text": [
            "/content/drive/MyDrive/Commit_folder/Portfolio\n"
          ]
        }
      ]
    },
    {
      "cell_type": "code",
      "source": [
        "!pip install finance-datareader --quiet"
      ],
      "metadata": {
        "id": "ycB7-TeFp-R2"
      },
      "execution_count": 6,
      "outputs": []
    },
    {
      "cell_type": "code",
      "source": [
        "!pip install bt --quiet"
      ],
      "metadata": {
        "id": "6qISq3rxroq6",
        "colab": {
          "base_uri": "https://localhost:8080/"
        },
        "outputId": "361f5834-60bf-4664-be4b-73f22d23f57b"
      },
      "execution_count": 7,
      "outputs": [
        {
          "output_type": "stream",
          "name": "stdout",
          "text": [
            "\u001b[?25l\r\u001b[K     |▏                               | 10 kB 15.0 MB/s eta 0:00:01\r\u001b[K     |▎                               | 20 kB 7.1 MB/s eta 0:00:01\r\u001b[K     |▍                               | 30 kB 10.0 MB/s eta 0:00:01\r\u001b[K     |▌                               | 40 kB 9.2 MB/s eta 0:00:01\r\u001b[K     |▋                               | 51 kB 11.1 MB/s eta 0:00:01\r\u001b[K     |▊                               | 61 kB 12.9 MB/s eta 0:00:01\r\u001b[K     |▉                               | 71 kB 11.9 MB/s eta 0:00:01\r\u001b[K     |█                               | 81 kB 13.2 MB/s eta 0:00:01\r\u001b[K     |█                               | 92 kB 7.0 MB/s eta 0:00:01\r\u001b[K     |█▏                              | 102 kB 7.6 MB/s eta 0:00:01\r\u001b[K     |█▎                              | 112 kB 7.6 MB/s eta 0:00:01\r\u001b[K     |█▍                              | 122 kB 7.6 MB/s eta 0:00:01\r\u001b[K     |█▋                              | 133 kB 7.6 MB/s eta 0:00:01\r\u001b[K     |█▊                              | 143 kB 7.6 MB/s eta 0:00:01\r\u001b[K     |█▉                              | 153 kB 7.6 MB/s eta 0:00:01\r\u001b[K     |██                              | 163 kB 7.6 MB/s eta 0:00:01\r\u001b[K     |██                              | 174 kB 7.6 MB/s eta 0:00:01\r\u001b[K     |██▏                             | 184 kB 7.6 MB/s eta 0:00:01\r\u001b[K     |██▎                             | 194 kB 7.6 MB/s eta 0:00:01\r\u001b[K     |██▍                             | 204 kB 7.6 MB/s eta 0:00:01\r\u001b[K     |██▌                             | 215 kB 7.6 MB/s eta 0:00:01\r\u001b[K     |██▋                             | 225 kB 7.6 MB/s eta 0:00:01\r\u001b[K     |██▊                             | 235 kB 7.6 MB/s eta 0:00:01\r\u001b[K     |██▉                             | 245 kB 7.6 MB/s eta 0:00:01\r\u001b[K     |███                             | 256 kB 7.6 MB/s eta 0:00:01\r\u001b[K     |███▏                            | 266 kB 7.6 MB/s eta 0:00:01\r\u001b[K     |███▎                            | 276 kB 7.6 MB/s eta 0:00:01\r\u001b[K     |███▍                            | 286 kB 7.6 MB/s eta 0:00:01\r\u001b[K     |███▌                            | 296 kB 7.6 MB/s eta 0:00:01\r\u001b[K     |███▋                            | 307 kB 7.6 MB/s eta 0:00:01\r\u001b[K     |███▊                            | 317 kB 7.6 MB/s eta 0:00:01\r\u001b[K     |███▉                            | 327 kB 7.6 MB/s eta 0:00:01\r\u001b[K     |████                            | 337 kB 7.6 MB/s eta 0:00:01\r\u001b[K     |████                            | 348 kB 7.6 MB/s eta 0:00:01\r\u001b[K     |████▏                           | 358 kB 7.6 MB/s eta 0:00:01\r\u001b[K     |████▎                           | 368 kB 7.6 MB/s eta 0:00:01\r\u001b[K     |████▍                           | 378 kB 7.6 MB/s eta 0:00:01\r\u001b[K     |████▌                           | 389 kB 7.6 MB/s eta 0:00:01\r\u001b[K     |████▊                           | 399 kB 7.6 MB/s eta 0:00:01\r\u001b[K     |████▉                           | 409 kB 7.6 MB/s eta 0:00:01\r\u001b[K     |█████                           | 419 kB 7.6 MB/s eta 0:00:01\r\u001b[K     |█████                           | 430 kB 7.6 MB/s eta 0:00:01\r\u001b[K     |█████▏                          | 440 kB 7.6 MB/s eta 0:00:01\r\u001b[K     |█████▎                          | 450 kB 7.6 MB/s eta 0:00:01\r\u001b[K     |█████▍                          | 460 kB 7.6 MB/s eta 0:00:01\r\u001b[K     |█████▌                          | 471 kB 7.6 MB/s eta 0:00:01\r\u001b[K     |█████▋                          | 481 kB 7.6 MB/s eta 0:00:01\r\u001b[K     |█████▊                          | 491 kB 7.6 MB/s eta 0:00:01\r\u001b[K     |█████▉                          | 501 kB 7.6 MB/s eta 0:00:01\r\u001b[K     |██████                          | 512 kB 7.6 MB/s eta 0:00:01\r\u001b[K     |██████▏                         | 522 kB 7.6 MB/s eta 0:00:01\r\u001b[K     |██████▎                         | 532 kB 7.6 MB/s eta 0:00:01\r\u001b[K     |██████▍                         | 542 kB 7.6 MB/s eta 0:00:01\r\u001b[K     |██████▌                         | 552 kB 7.6 MB/s eta 0:00:01\r\u001b[K     |██████▋                         | 563 kB 7.6 MB/s eta 0:00:01\r\u001b[K     |██████▊                         | 573 kB 7.6 MB/s eta 0:00:01\r\u001b[K     |██████▉                         | 583 kB 7.6 MB/s eta 0:00:01\r\u001b[K     |███████                         | 593 kB 7.6 MB/s eta 0:00:01\r\u001b[K     |███████                         | 604 kB 7.6 MB/s eta 0:00:01\r\u001b[K     |███████▏                        | 614 kB 7.6 MB/s eta 0:00:01\r\u001b[K     |███████▎                        | 624 kB 7.6 MB/s eta 0:00:01\r\u001b[K     |███████▍                        | 634 kB 7.6 MB/s eta 0:00:01\r\u001b[K     |███████▌                        | 645 kB 7.6 MB/s eta 0:00:01\r\u001b[K     |███████▊                        | 655 kB 7.6 MB/s eta 0:00:01\r\u001b[K     |███████▉                        | 665 kB 7.6 MB/s eta 0:00:01\r\u001b[K     |████████                        | 675 kB 7.6 MB/s eta 0:00:01\r\u001b[K     |████████                        | 686 kB 7.6 MB/s eta 0:00:01\r\u001b[K     |████████▏                       | 696 kB 7.6 MB/s eta 0:00:01\r\u001b[K     |████████▎                       | 706 kB 7.6 MB/s eta 0:00:01\r\u001b[K     |████████▍                       | 716 kB 7.6 MB/s eta 0:00:01\r\u001b[K     |████████▌                       | 727 kB 7.6 MB/s eta 0:00:01\r\u001b[K     |████████▋                       | 737 kB 7.6 MB/s eta 0:00:01\r\u001b[K     |████████▊                       | 747 kB 7.6 MB/s eta 0:00:01\r\u001b[K     |████████▉                       | 757 kB 7.6 MB/s eta 0:00:01\r\u001b[K     |█████████                       | 768 kB 7.6 MB/s eta 0:00:01\r\u001b[K     |█████████                       | 778 kB 7.6 MB/s eta 0:00:01\r\u001b[K     |█████████▎                      | 788 kB 7.6 MB/s eta 0:00:01\r\u001b[K     |█████████▍                      | 798 kB 7.6 MB/s eta 0:00:01\r\u001b[K     |█████████▌                      | 808 kB 7.6 MB/s eta 0:00:01\r\u001b[K     |█████████▋                      | 819 kB 7.6 MB/s eta 0:00:01\r\u001b[K     |█████████▊                      | 829 kB 7.6 MB/s eta 0:00:01\r\u001b[K     |█████████▉                      | 839 kB 7.6 MB/s eta 0:00:01\r\u001b[K     |██████████                      | 849 kB 7.6 MB/s eta 0:00:01\r\u001b[K     |██████████                      | 860 kB 7.6 MB/s eta 0:00:01\r\u001b[K     |██████████▏                     | 870 kB 7.6 MB/s eta 0:00:01\r\u001b[K     |██████████▎                     | 880 kB 7.6 MB/s eta 0:00:01\r\u001b[K     |██████████▍                     | 890 kB 7.6 MB/s eta 0:00:01\r\u001b[K     |██████████▌                     | 901 kB 7.6 MB/s eta 0:00:01\r\u001b[K     |██████████▋                     | 911 kB 7.6 MB/s eta 0:00:01\r\u001b[K     |██████████▉                     | 921 kB 7.6 MB/s eta 0:00:01\r\u001b[K     |███████████                     | 931 kB 7.6 MB/s eta 0:00:01\r\u001b[K     |███████████                     | 942 kB 7.6 MB/s eta 0:00:01\r\u001b[K     |███████████▏                    | 952 kB 7.6 MB/s eta 0:00:01\r\u001b[K     |███████████▎                    | 962 kB 7.6 MB/s eta 0:00:01\r\u001b[K     |███████████▍                    | 972 kB 7.6 MB/s eta 0:00:01\r\u001b[K     |███████████▌                    | 983 kB 7.6 MB/s eta 0:00:01\r\u001b[K     |███████████▋                    | 993 kB 7.6 MB/s eta 0:00:01\r\u001b[K     |███████████▊                    | 1.0 MB 7.6 MB/s eta 0:00:01\r\u001b[K     |███████████▉                    | 1.0 MB 7.6 MB/s eta 0:00:01\r\u001b[K     |████████████                    | 1.0 MB 7.6 MB/s eta 0:00:01\r\u001b[K     |████████████                    | 1.0 MB 7.6 MB/s eta 0:00:01\r\u001b[K     |████████████▎                   | 1.0 MB 7.6 MB/s eta 0:00:01\r\u001b[K     |████████████▍                   | 1.1 MB 7.6 MB/s eta 0:00:01\r\u001b[K     |████████████▌                   | 1.1 MB 7.6 MB/s eta 0:00:01\r\u001b[K     |████████████▋                   | 1.1 MB 7.6 MB/s eta 0:00:01\r\u001b[K     |████████████▊                   | 1.1 MB 7.6 MB/s eta 0:00:01\r\u001b[K     |████████████▉                   | 1.1 MB 7.6 MB/s eta 0:00:01\r\u001b[K     |█████████████                   | 1.1 MB 7.6 MB/s eta 0:00:01\r\u001b[K     |█████████████                   | 1.1 MB 7.6 MB/s eta 0:00:01\r\u001b[K     |█████████████▏                  | 1.1 MB 7.6 MB/s eta 0:00:01\r\u001b[K     |█████████████▎                  | 1.1 MB 7.6 MB/s eta 0:00:01\r\u001b[K     |█████████████▍                  | 1.1 MB 7.6 MB/s eta 0:00:01\r\u001b[K     |█████████████▌                  | 1.2 MB 7.6 MB/s eta 0:00:01\r\u001b[K     |█████████████▋                  | 1.2 MB 7.6 MB/s eta 0:00:01\r\u001b[K     |█████████████▉                  | 1.2 MB 7.6 MB/s eta 0:00:01\r\u001b[K     |██████████████                  | 1.2 MB 7.6 MB/s eta 0:00:01\r\u001b[K     |██████████████                  | 1.2 MB 7.6 MB/s eta 0:00:01\r\u001b[K     |██████████████▏                 | 1.2 MB 7.6 MB/s eta 0:00:01\r\u001b[K     |██████████████▎                 | 1.2 MB 7.6 MB/s eta 0:00:01\r\u001b[K     |██████████████▍                 | 1.2 MB 7.6 MB/s eta 0:00:01\r\u001b[K     |██████████████▌                 | 1.2 MB 7.6 MB/s eta 0:00:01\r\u001b[K     |██████████████▋                 | 1.2 MB 7.6 MB/s eta 0:00:01\r\u001b[K     |██████████████▊                 | 1.3 MB 7.6 MB/s eta 0:00:01\r\u001b[K     |██████████████▉                 | 1.3 MB 7.6 MB/s eta 0:00:01\r\u001b[K     |███████████████                 | 1.3 MB 7.6 MB/s eta 0:00:01\r\u001b[K     |███████████████                 | 1.3 MB 7.6 MB/s eta 0:00:01\r\u001b[K     |███████████████▏                | 1.3 MB 7.6 MB/s eta 0:00:01\r\u001b[K     |███████████████▍                | 1.3 MB 7.6 MB/s eta 0:00:01\r\u001b[K     |███████████████▌                | 1.3 MB 7.6 MB/s eta 0:00:01\r\u001b[K     |███████████████▋                | 1.3 MB 7.6 MB/s eta 0:00:01\r\u001b[K     |███████████████▊                | 1.3 MB 7.6 MB/s eta 0:00:01\r\u001b[K     |███████████████▉                | 1.4 MB 7.6 MB/s eta 0:00:01\r\u001b[K     |████████████████                | 1.4 MB 7.6 MB/s eta 0:00:01\r\u001b[K     |████████████████                | 1.4 MB 7.6 MB/s eta 0:00:01\r\u001b[K     |████████████████▏               | 1.4 MB 7.6 MB/s eta 0:00:01\r\u001b[K     |████████████████▎               | 1.4 MB 7.6 MB/s eta 0:00:01\r\u001b[K     |████████████████▍               | 1.4 MB 7.6 MB/s eta 0:00:01\r\u001b[K     |████████████████▌               | 1.4 MB 7.6 MB/s eta 0:00:01\r\u001b[K     |████████████████▋               | 1.4 MB 7.6 MB/s eta 0:00:01\r\u001b[K     |████████████████▊               | 1.4 MB 7.6 MB/s eta 0:00:01\r\u001b[K     |█████████████████               | 1.4 MB 7.6 MB/s eta 0:00:01\r\u001b[K     |█████████████████               | 1.5 MB 7.6 MB/s eta 0:00:01\r\u001b[K     |█████████████████▏              | 1.5 MB 7.6 MB/s eta 0:00:01\r\u001b[K     |█████████████████▎              | 1.5 MB 7.6 MB/s eta 0:00:01\r\u001b[K     |█████████████████▍              | 1.5 MB 7.6 MB/s eta 0:00:01\r\u001b[K     |█████████████████▌              | 1.5 MB 7.6 MB/s eta 0:00:01\r\u001b[K     |█████████████████▋              | 1.5 MB 7.6 MB/s eta 0:00:01\r\u001b[K     |█████████████████▊              | 1.5 MB 7.6 MB/s eta 0:00:01\r\u001b[K     |█████████████████▉              | 1.5 MB 7.6 MB/s eta 0:00:01\r\u001b[K     |██████████████████              | 1.5 MB 7.6 MB/s eta 0:00:01\r\u001b[K     |██████████████████              | 1.5 MB 7.6 MB/s eta 0:00:01\r\u001b[K     |██████████████████▏             | 1.6 MB 7.6 MB/s eta 0:00:01\r\u001b[K     |██████████████████▍             | 1.6 MB 7.6 MB/s eta 0:00:01\r\u001b[K     |██████████████████▌             | 1.6 MB 7.6 MB/s eta 0:00:01\r\u001b[K     |██████████████████▋             | 1.6 MB 7.6 MB/s eta 0:00:01\r\u001b[K     |██████████████████▊             | 1.6 MB 7.6 MB/s eta 0:00:01\r\u001b[K     |██████████████████▉             | 1.6 MB 7.6 MB/s eta 0:00:01\r\u001b[K     |███████████████████             | 1.6 MB 7.6 MB/s eta 0:00:01\r\u001b[K     |███████████████████             | 1.6 MB 7.6 MB/s eta 0:00:01\r\u001b[K     |███████████████████▏            | 1.6 MB 7.6 MB/s eta 0:00:01\r\u001b[K     |███████████████████▎            | 1.6 MB 7.6 MB/s eta 0:00:01\r\u001b[K     |███████████████████▍            | 1.7 MB 7.6 MB/s eta 0:00:01\r\u001b[K     |███████████████████▌            | 1.7 MB 7.6 MB/s eta 0:00:01\r\u001b[K     |███████████████████▋            | 1.7 MB 7.6 MB/s eta 0:00:01\r\u001b[K     |███████████████████▊            | 1.7 MB 7.6 MB/s eta 0:00:01\r\u001b[K     |████████████████████            | 1.7 MB 7.6 MB/s eta 0:00:01\r\u001b[K     |████████████████████            | 1.7 MB 7.6 MB/s eta 0:00:01\r\u001b[K     |████████████████████▏           | 1.7 MB 7.6 MB/s eta 0:00:01\r\u001b[K     |████████████████████▎           | 1.7 MB 7.6 MB/s eta 0:00:01\r\u001b[K     |████████████████████▍           | 1.7 MB 7.6 MB/s eta 0:00:01\r\u001b[K     |████████████████████▌           | 1.8 MB 7.6 MB/s eta 0:00:01\r\u001b[K     |████████████████████▋           | 1.8 MB 7.6 MB/s eta 0:00:01\r\u001b[K     |████████████████████▊           | 1.8 MB 7.6 MB/s eta 0:00:01\r\u001b[K     |████████████████████▉           | 1.8 MB 7.6 MB/s eta 0:00:01\r\u001b[K     |█████████████████████           | 1.8 MB 7.6 MB/s eta 0:00:01\r\u001b[K     |█████████████████████           | 1.8 MB 7.6 MB/s eta 0:00:01\r\u001b[K     |█████████████████████▏          | 1.8 MB 7.6 MB/s eta 0:00:01\r\u001b[K     |█████████████████████▎          | 1.8 MB 7.6 MB/s eta 0:00:01\r\u001b[K     |█████████████████████▌          | 1.8 MB 7.6 MB/s eta 0:00:01\r\u001b[K     |█████████████████████▋          | 1.8 MB 7.6 MB/s eta 0:00:01\r\u001b[K     |█████████████████████▊          | 1.9 MB 7.6 MB/s eta 0:00:01\r\u001b[K     |█████████████████████▉          | 1.9 MB 7.6 MB/s eta 0:00:01\r\u001b[K     |██████████████████████          | 1.9 MB 7.6 MB/s eta 0:00:01\r\u001b[K     |██████████████████████          | 1.9 MB 7.6 MB/s eta 0:00:01\r\u001b[K     |██████████████████████▏         | 1.9 MB 7.6 MB/s eta 0:00:01\r\u001b[K     |██████████████████████▎         | 1.9 MB 7.6 MB/s eta 0:00:01\r\u001b[K     |██████████████████████▍         | 1.9 MB 7.6 MB/s eta 0:00:01\r\u001b[K     |██████████████████████▌         | 1.9 MB 7.6 MB/s eta 0:00:01\r\u001b[K     |██████████████████████▋         | 1.9 MB 7.6 MB/s eta 0:00:01\r\u001b[K     |██████████████████████▊         | 1.9 MB 7.6 MB/s eta 0:00:01\r\u001b[K     |██████████████████████▉         | 2.0 MB 7.6 MB/s eta 0:00:01\r\u001b[K     |███████████████████████         | 2.0 MB 7.6 MB/s eta 0:00:01\r\u001b[K     |███████████████████████▏        | 2.0 MB 7.6 MB/s eta 0:00:01\r\u001b[K     |███████████████████████▎        | 2.0 MB 7.6 MB/s eta 0:00:01\r\u001b[K     |███████████████████████▍        | 2.0 MB 7.6 MB/s eta 0:00:01\r\u001b[K     |███████████████████████▌        | 2.0 MB 7.6 MB/s eta 0:00:01\r\u001b[K     |███████████████████████▋        | 2.0 MB 7.6 MB/s eta 0:00:01\r\u001b[K     |███████████████████████▊        | 2.0 MB 7.6 MB/s eta 0:00:01\r\u001b[K     |███████████████████████▉        | 2.0 MB 7.6 MB/s eta 0:00:01\r\u001b[K     |████████████████████████        | 2.0 MB 7.6 MB/s eta 0:00:01\r\u001b[K     |████████████████████████        | 2.1 MB 7.6 MB/s eta 0:00:01\r\u001b[K     |████████████████████████▏       | 2.1 MB 7.6 MB/s eta 0:00:01\r\u001b[K     |████████████████████████▎       | 2.1 MB 7.6 MB/s eta 0:00:01\r\u001b[K     |████████████████████████▌       | 2.1 MB 7.6 MB/s eta 0:00:01\r\u001b[K     |████████████████████████▋       | 2.1 MB 7.6 MB/s eta 0:00:01\r\u001b[K     |████████████████████████▊       | 2.1 MB 7.6 MB/s eta 0:00:01\r\u001b[K     |████████████████████████▉       | 2.1 MB 7.6 MB/s eta 0:00:01\r\u001b[K     |█████████████████████████       | 2.1 MB 7.6 MB/s eta 0:00:01\r\u001b[K     |█████████████████████████       | 2.1 MB 7.6 MB/s eta 0:00:01\r\u001b[K     |█████████████████████████▏      | 2.2 MB 7.6 MB/s eta 0:00:01\r\u001b[K     |█████████████████████████▎      | 2.2 MB 7.6 MB/s eta 0:00:01\r\u001b[K     |█████████████████████████▍      | 2.2 MB 7.6 MB/s eta 0:00:01\r\u001b[K     |█████████████████████████▌      | 2.2 MB 7.6 MB/s eta 0:00:01\r\u001b[K     |█████████████████████████▋      | 2.2 MB 7.6 MB/s eta 0:00:01\r\u001b[K     |█████████████████████████▊      | 2.2 MB 7.6 MB/s eta 0:00:01\r\u001b[K     |█████████████████████████▉      | 2.2 MB 7.6 MB/s eta 0:00:01\r\u001b[K     |██████████████████████████      | 2.2 MB 7.6 MB/s eta 0:00:01\r\u001b[K     |██████████████████████████▏     | 2.2 MB 7.6 MB/s eta 0:00:01\r\u001b[K     |██████████████████████████▎     | 2.2 MB 7.6 MB/s eta 0:00:01\r\u001b[K     |██████████████████████████▍     | 2.3 MB 7.6 MB/s eta 0:00:01\r\u001b[K     |██████████████████████████▌     | 2.3 MB 7.6 MB/s eta 0:00:01\r\u001b[K     |██████████████████████████▋     | 2.3 MB 7.6 MB/s eta 0:00:01\r\u001b[K     |██████████████████████████▊     | 2.3 MB 7.6 MB/s eta 0:00:01\r\u001b[K     |██████████████████████████▉     | 2.3 MB 7.6 MB/s eta 0:00:01\r\u001b[K     |███████████████████████████     | 2.3 MB 7.6 MB/s eta 0:00:01\r\u001b[K     |███████████████████████████     | 2.3 MB 7.6 MB/s eta 0:00:01\r\u001b[K     |███████████████████████████▏    | 2.3 MB 7.6 MB/s eta 0:00:01\r\u001b[K     |███████████████████████████▎    | 2.3 MB 7.6 MB/s eta 0:00:01\r\u001b[K     |███████████████████████████▍    | 2.3 MB 7.6 MB/s eta 0:00:01\r\u001b[K     |███████████████████████████▋    | 2.4 MB 7.6 MB/s eta 0:00:01\r\u001b[K     |███████████████████████████▊    | 2.4 MB 7.6 MB/s eta 0:00:01\r\u001b[K     |███████████████████████████▉    | 2.4 MB 7.6 MB/s eta 0:00:01\r\u001b[K     |████████████████████████████    | 2.4 MB 7.6 MB/s eta 0:00:01\r\u001b[K     |████████████████████████████    | 2.4 MB 7.6 MB/s eta 0:00:01\r\u001b[K     |████████████████████████████▏   | 2.4 MB 7.6 MB/s eta 0:00:01\r\u001b[K     |████████████████████████████▎   | 2.4 MB 7.6 MB/s eta 0:00:01\r\u001b[K     |████████████████████████████▍   | 2.4 MB 7.6 MB/s eta 0:00:01\r\u001b[K     |████████████████████████████▌   | 2.4 MB 7.6 MB/s eta 0:00:01\r\u001b[K     |████████████████████████████▋   | 2.4 MB 7.6 MB/s eta 0:00:01\r\u001b[K     |████████████████████████████▊   | 2.5 MB 7.6 MB/s eta 0:00:01\r\u001b[K     |████████████████████████████▉   | 2.5 MB 7.6 MB/s eta 0:00:01\r\u001b[K     |█████████████████████████████   | 2.5 MB 7.6 MB/s eta 0:00:01\r\u001b[K     |█████████████████████████████▏  | 2.5 MB 7.6 MB/s eta 0:00:01\r\u001b[K     |█████████████████████████████▎  | 2.5 MB 7.6 MB/s eta 0:00:01\r\u001b[K     |█████████████████████████████▍  | 2.5 MB 7.6 MB/s eta 0:00:01\r\u001b[K     |█████████████████████████████▌  | 2.5 MB 7.6 MB/s eta 0:00:01\r\u001b[K     |█████████████████████████████▋  | 2.5 MB 7.6 MB/s eta 0:00:01\r\u001b[K     |█████████████████████████████▊  | 2.5 MB 7.6 MB/s eta 0:00:01\r\u001b[K     |█████████████████████████████▉  | 2.5 MB 7.6 MB/s eta 0:00:01\r\u001b[K     |██████████████████████████████  | 2.6 MB 7.6 MB/s eta 0:00:01\r\u001b[K     |██████████████████████████████  | 2.6 MB 7.6 MB/s eta 0:00:01\r\u001b[K     |██████████████████████████████▏ | 2.6 MB 7.6 MB/s eta 0:00:01\r\u001b[K     |██████████████████████████████▎ | 2.6 MB 7.6 MB/s eta 0:00:01\r\u001b[K     |██████████████████████████████▍ | 2.6 MB 7.6 MB/s eta 0:00:01\r\u001b[K     |██████████████████████████████▋ | 2.6 MB 7.6 MB/s eta 0:00:01\r\u001b[K     |██████████████████████████████▊ | 2.6 MB 7.6 MB/s eta 0:00:01\r\u001b[K     |██████████████████████████████▉ | 2.6 MB 7.6 MB/s eta 0:00:01\r\u001b[K     |███████████████████████████████ | 2.6 MB 7.6 MB/s eta 0:00:01\r\u001b[K     |███████████████████████████████ | 2.7 MB 7.6 MB/s eta 0:00:01\r\u001b[K     |███████████████████████████████▏| 2.7 MB 7.6 MB/s eta 0:00:01\r\u001b[K     |███████████████████████████████▎| 2.7 MB 7.6 MB/s eta 0:00:01\r\u001b[K     |███████████████████████████████▍| 2.7 MB 7.6 MB/s eta 0:00:01\r\u001b[K     |███████████████████████████████▌| 2.7 MB 7.6 MB/s eta 0:00:01\r\u001b[K     |███████████████████████████████▋| 2.7 MB 7.6 MB/s eta 0:00:01\r\u001b[K     |███████████████████████████████▊| 2.7 MB 7.6 MB/s eta 0:00:01\r\u001b[K     |███████████████████████████████▉| 2.7 MB 7.6 MB/s eta 0:00:01\r\u001b[K     |████████████████████████████████| 2.7 MB 7.6 MB/s eta 0:00:01\r\u001b[K     |████████████████████████████████| 2.7 MB 7.6 MB/s \n",
            "\u001b[?25h  Installing build dependencies ... \u001b[?25l\u001b[?25hdone\n",
            "  Getting requirements to build wheel ... \u001b[?25l\u001b[?25hdone\n",
            "    Preparing wheel metadata ... \u001b[?25l\u001b[?25hdone\n",
            "  Building wheel for bt (PEP 517) ... \u001b[?25l\u001b[?25hdone\n"
          ]
        }
      ]
    },
    {
      "cell_type": "code",
      "source": [
        "import FinanceDataReader as fdr\n",
        "import numpy as np\n",
        "import pandas as pd\n",
        "import matplotlib.pyplot as plt\n",
        "import seaborn as sns\n",
        "\n",
        "%matplotlib inline\n",
        "\n",
        "from strategy import *"
      ],
      "metadata": {
        "id": "cj4fl7IUqWGR"
      },
      "execution_count": 7,
      "outputs": []
    },
    {
      "cell_type": "code",
      "source": [
        "kbstar_bnd = fdr.DataReader('114100')\n",
        "kodex200 = fdr.DataReader('069500')\n",
        "\n",
        "data = pd.DataFrame()\n",
        "data['kodex200'] = kodex200['Close']\n",
        "data['kbstar_bnd'] = kbstar_bnd['Close']\n",
        "data = data.dropna()\n",
        "print('data \\n', data)"
      ],
      "metadata": {
        "colab": {
          "base_uri": "https://localhost:8080/"
        },
        "id": "-mnsvH-RqLgb",
        "outputId": "226542f6-beff-4e70-81dc-dd3d50a48bda"
      },
      "execution_count": 8,
      "outputs": [
        {
          "output_type": "stream",
          "name": "stdout",
          "text": [
            "data \n",
            "             kodex200  kbstar_bnd\n",
            "Date                            \n",
            "2009-07-29     16044     76226.0\n",
            "2009-07-30     16182     76367.0\n",
            "2009-07-31     16444     76217.0\n",
            "2009-08-03     16471     75959.0\n",
            "2009-08-04     16500     75965.0\n",
            "...              ...         ...\n",
            "2022-11-23     31465    107675.0\n",
            "2022-11-24     31760    108215.0\n",
            "2022-11-25     31630    108375.0\n",
            "2022-11-28     31245    108300.0\n",
            "2022-11-29     31600    108205.0\n",
            "\n",
            "[3295 rows x 2 columns]\n"
          ]
        }
      ]
    },
    {
      "cell_type": "code",
      "source": [
        "s = bt.Strategy('stock vs bond 1:1 rebalancing',\n",
        "                [bt.algos.RunMonthly(run_on_first_date=False, run_on_end_of_period=True, run_on_last_date=False),\n",
        "                 #bt.algos.PrintInfo('{name} : {now}'),\n",
        "                 bt.algos.SelectAll(),\n",
        "                 bt.algos.WeighEqually(),\n",
        "                 bt.algos.Rebalance()])\n",
        "test = bt.Backtest(s, data, initial_capital=100000000.0)"
      ],
      "metadata": {
        "id": "PnmNI0MovO5M"
      },
      "execution_count": 9,
      "outputs": []
    },
    {
      "cell_type": "code",
      "source": [
        "kodex200 = buy_n_hold(data['kodex200'].to_frame(), name='kodex200')\n",
        "kbstar_bnd = buy_n_hold(data['kbstar_bnd'].to_frame(), name='kbstar_bnd')\n",
        "\n",
        "result = bt.run(test, kodex200, kbstar_bnd)"
      ],
      "metadata": {
        "id": "TS6c6Ys1wU__"
      },
      "execution_count": 10,
      "outputs": []
    },
    {
      "cell_type": "code",
      "source": [
        "result.plot()\n",
        "\n",
        "\n",
        "print(result.display())\n",
        "print(result.display_monthly_returns())"
      ],
      "metadata": {
        "id": "WXr6hVHIyNMW"
      },
      "execution_count": null,
      "outputs": []
    },
    {
      "cell_type": "code",
      "source": [
        "result.backtests['stock vs bond 1:1 rebalancing'].stats.drawdown.plot(figsize=(15,5))"
      ],
      "metadata": {
        "colab": {
          "base_uri": "https://localhost:8080/"
        },
        "id": "6OcGiJIjxXpg",
        "outputId": "9a40ac5d-9822-4aac-c00e-21642c0ac10d"
      },
      "execution_count": 13,
      "outputs": [
        {
          "output_type": "execute_result",
          "data": {
            "text/plain": [
              "<matplotlib.axes._subplots.AxesSubplot at 0x7f8522878b10>"
            ]
          },
          "metadata": {},
          "execution_count": 13
        }
      ]
    }
  ],
  "metadata": {
    "colab": {
      "name": "Colaboratory에 오신 것을 환영합니다",
      "provenance": [],
      "include_colab_link": true
    },
    "kernelspec": {
      "display_name": "Python 3",
      "name": "python3"
    }
  },
  "nbformat": 4,
  "nbformat_minor": 0
}